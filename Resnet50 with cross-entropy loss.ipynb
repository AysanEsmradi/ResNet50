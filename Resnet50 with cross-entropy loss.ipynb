{
 "cells": [
  {
   "cell_type": "markdown",
   "id": "aa846f1b",
   "metadata": {},
   "source": [
    
   ]
  },
  {
   "cell_type": "code",
   "execution_count": 92,
   "id": "9a2e3847",
   "metadata": {},
   "outputs": [],
   "source": [
    "import random\n",
    "import shutil\n",
    "import time\n",
    "import warnings\n",
    "import sys\n",
    "import torch\n",
    "import os\n",
    "import torch.nn as nn\n",
    "from torchvision import transforms\n",
    "import torchvision.models as models\n",
    "import numpy as np\n",
    "import pandas as pd\n",
    "from sklearn.metrics import accuracy_score\n",
    "from tqdm import tqdm\n",
    "import torch.nn.parallel\n",
    "import torch.backends.cudnn as cudnn\n",
    "import torch.distributed as dist\n",
    "import torch.optim as optim\n",
    "import torch.multiprocessing as mp\n",
    "import torch.utils.data\n",
    "import torch.utils.data.distributed\n",
    "from torch.utils.data import Dataset,DataLoader\n",
    "import torch.nn.functional as F\n",
    "import torch.nn.init as init\n",
    "from sklearn.metrics import accuracy_score\n",
    "from sklearn.metrics import precision_score\n",
    "from sklearn.metrics import recall_score\n",
    "import matplotlib.pyplot as plt\n",
    "device = torch.device(\"cuda\" if torch.cuda.is_available() else \"cpu\")"
   ]
  },
  {
   "cell_type": "code",
   "execution_count": 93,
   "id": "e9023b54",
   "metadata": {},
   "outputs": [],
   "source": []
  },
  {
   "cell_type": "code",
   "execution_count": 94,
   "id": "c0d44b64",
   "metadata": {},
   "outputs": [],
   "source": [
    "\n",
    "import os\n",
    "\n",
    "import PIL.Image\n",
    "import pandas as pd\n",
    "import numpy as np\n",
    "from PIL import Image\n",
    "from torch.utils.data import Dataset\n",
    "\n",
    "from torchvision import transforms\n",
    "\n",
    "\n",
    "class Skin7(Dataset):\n",
    "    def __init__(self, root=\"./datas\", train=True,transform=None):\n",
    "        self.root = os.path.join(root)\n",
    "        #labels\n",
    "        \n",
    "        self.train = train\n",
    "        self.data = pd.read_csv(root+\"/annotation/train.csv\") if train else pd.read_csv(root+\"/annotation/test.csv\")\n",
    "        self.data[\"image_train\"] = root + '/images/' + self.data[\"image_train\"]\n",
    "        self.transform = transform\n",
    "\n",
    "    def __getitem__(self, index):\n",
    "        img_path, label = self.data.iloc[index]\n",
    "        img = Image.open(img_path)\n",
    "        if self.transform is not None:\n",
    "            img = self.transform(img)\n",
    "\n",
    "        return (img, label)\n",
    "\n",
    "    def __len__(self):\n",
    "        return len(self.data)\n"
   ]
  },
  {
   "cell_type": "code",
   "execution_count": 95,
   "id": "11803526",
   "metadata": {},
   "outputs": [],
   "source": [
    "train_transform = transforms.Compose([transforms.RandomRotation(35),\n",
    "                                      transforms.RandomVerticalFlip(),\n",
    "                                      transforms.RandomHorizontalFlip(),\n",
    "                                      transforms.RandomCrop(200),\n",
    "                                      transforms.CenterCrop(224),\n",
    "                                      transforms.ToTensor()])\n",
    "test_transform = transforms.Compose([transforms.ToTensor()])\n",
    "\n",
    "trainset = Skin7(train=True, transform=train_transform)\n",
    "testset = Skin7(train=False, transform=test_transform)"
   ]
  },
  {
   "cell_type": "code",
   "execution_count": 96,
   "id": "62854ab5",
   "metadata": {},
   "outputs": [],
   "source": [
    "#params\n",
    "batch_size = 24"
   ]
  },
  {
   "cell_type": "code",
   "execution_count": 97,
   "id": "8f1c77b2",
   "metadata": {},
   "outputs": [],
   "source": [
    "trainloader = torch.utils.data.DataLoader(trainset, batch_size=batch_size,\n",
    "                                          shuffle=True, pin_memory=True)\n",
    "testloader = torch.utils.data.DataLoader(testset, batch_size=batch_size,\n",
    "                                        shuffle=False, pin_memory=True)"
   ]
  },
  {
   "cell_type": "code",
   "execution_count": 98,
   "id": "a29ffb8a",
   "metadata": {},
   "outputs": [
    {
     "name": "stdout",
     "output_type": "stream",
     "text": [
      "305\n"
     ]
    }
   ],
   "source": [
    "size = len(trainloader.dataset)\n",
    "print(size)"
   ]
  },
  {
   "cell_type": "code",
   "execution_count": 99,
   "id": "484a356d",
   "metadata": {},
   "outputs": [
    {
     "name": "stdout",
     "output_type": "stream",
     "text": [
      "13\n"
     ]
    }
   ],
   "source": [
    "print(len(trainloader))"
   ]
  },
  {
   "cell_type": "code",
   "execution_count": 100,
   "id": "84244f20",
   "metadata": {},
   "outputs": [],
   "source": [
    "#model\n",
    "import torch\n",
    "import torch.nn as nn\n",
    "import torch.nn.functional as F\n",
    "\n",
    "class Bottleneck(nn.Module):\n",
    "    expansion = 4\n",
    "\n",
    "    def __init__(self, in_planes, planes, stride=1, is_last=False):\n",
    "        super(Bottleneck, self).__init__()\n",
    "        self.is_last = is_last\n",
    "        self.conv1 = nn.Conv2d(in_planes, planes, kernel_size=1, bias=False)\n",
    "        self.bn1 = nn.BatchNorm2d(planes)\n",
    "        self.conv2 = nn.Conv2d(planes, planes, kernel_size=3, stride=stride, padding=1, bias=False)\n",
    "        self.bn2 = nn.BatchNorm2d(planes)\n",
    "        self.conv3 = nn.Conv2d(planes, self.expansion * planes, kernel_size=1, bias=False)\n",
    "        self.bn3 = nn.BatchNorm2d(self.expansion * planes)\n",
    "\n",
    "        self.shortcut = nn.Sequential()\n",
    "        if stride != 1 or in_planes != self.expansion * planes:\n",
    "            self.shortcut = nn.Sequential(\n",
    "                nn.Conv2d(in_planes, self.expansion * planes, kernel_size=1, stride=stride, bias=False),\n",
    "                nn.BatchNorm2d(self.expansion * planes)\n",
    "            )\n",
    "\n",
    "    def forward(self, x):\n",
    "        out = F.relu(self.bn1(self.conv1(x)))\n",
    "        out = F.relu(self.bn2(self.conv2(out)))\n",
    "        out = self.bn3(self.conv3(out))\n",
    "        out += self.shortcut(x)\n",
    "        preact = out\n",
    "        out = F.relu(out)\n",
    "        if self.is_last:\n",
    "            return out, preact\n",
    "        else:\n",
    "            return out\n",
    "\n",
    "\n",
    "class ResNet(nn.Module):\n",
    "    def __init__(self, block, num_blocks, in_channel=3, zero_init_residual=False):\n",
    "        super(ResNet, self).__init__()\n",
    "        self.in_planes = 64\n",
    "\n",
    "        self.conv1 = nn.Conv2d(in_channel, 64, kernel_size=3, stride=1, padding=1,\n",
    "                               bias=False)\n",
    "        self.bn1 = nn.BatchNorm2d(64)\n",
    "        self.layer1 = self._make_layer(block, 64, num_blocks[0], stride=1)\n",
    "        self.layer2 = self._make_layer(block, 128, num_blocks[1], stride=2)\n",
    "        self.layer3 = self._make_layer(block, 256, num_blocks[2], stride=2)\n",
    "        self.layer4 = self._make_layer(block, 512, num_blocks[3], stride=2)\n",
    "        self.avgpool = nn.AdaptiveAvgPool2d((1, 1))\n",
    "\n",
    "        for m in self.modules():\n",
    "            if isinstance(m, nn.Conv2d):\n",
    "                nn.init.kaiming_normal_(m.weight, mode='fan_out', nonlinearity='relu')\n",
    "            elif isinstance(m, (nn.BatchNorm2d, nn.GroupNorm)):\n",
    "                nn.init.constant_(m.weight, 1)\n",
    "                nn.init.constant_(m.bias, 0)\n",
    "\n",
    "        if zero_init_residual:\n",
    "            for m in self.modules():\n",
    "                if isinstance(m, Bottleneck):\n",
    "                    nn.init.constant_(m.bn3.weight, 0)\n",
    "                elif isinstance(m, BasicBlock):\n",
    "                    nn.init.constant_(m.bn2.weight, 0)\n",
    "\n",
    "    def _make_layer(self, block, planes, num_blocks, stride):\n",
    "        strides = [stride] + [1] * (num_blocks - 1)\n",
    "        layers = []\n",
    "        for i in range(num_blocks):\n",
    "            stride = strides[i]\n",
    "            layers.append(block(self.in_planes, planes, stride))\n",
    "            self.in_planes = planes * block.expansion\n",
    "        return nn.Sequential(*layers)\n",
    "\n",
    "    def forward(self, x, layer=100):\n",
    "        out = F.relu(self.bn1(self.conv1(x)))\n",
    "        out = self.layer1(out)\n",
    "        out = self.layer2(out)\n",
    "        out = self.layer3(out)\n",
    "        out = self.layer4(out)\n",
    "        out = self.avgpool(out)\n",
    "        out = torch.flatten(out, 1)\n",
    "        return out\n",
    "\n",
    "\n",
    "\n",
    "def resnet50(**kwargs):\n",
    "    return ResNet(Bottleneck, [3, 4, 6, 3], **kwargs)\n",
    "\n",
    "\n",
    "\n",
    "model_dict = {\n",
    "    'resnet50': [resnet50, 2048]\n",
    "}\n",
    "\n",
    "\n",
    "class LinearBatchNorm(nn.Module):\n",
    "    def __init__(self, dim, affine=True):\n",
    "        super(LinearBatchNorm, self).__init__()\n",
    "        self.dim = dim\n",
    "        self.bn = nn.BatchNorm2d(dim, affine=affine)\n",
    "\n",
    "    def forward(self, x):\n",
    "        x = x.view(-1, self.dim, 1, 1)\n",
    "        x = self.bn(x)\n",
    "        x = x.view(-1, self.dim)\n",
    "        return x\n",
    "\n",
    "\n",
    "class RNet50(nn.Module):\n",
    "    def __init__(self, name='resnet50', head='linear', feat_dim=7):\n",
    "        super(RNet50, self).__init__()\n",
    "        model_fun, dim_in = model_dict[name]\n",
    "        self.encoder = model_fun()\n",
    "        if head == 'linear':\n",
    "            self.head = nn.Linear(dim_in, feat_dim)\n",
    "        elif head == 'mlp':\n",
    "            self.head = nn.Sequential(\n",
    "                nn.Linear(dim_in, dim_in),\n",
    "                nn.ReLU(inplace=True),\n",
    "                nn.Linear(dim_in, feat_dim)\n",
    "            )\n",
    "        else:\n",
    "            raise NotImplementedError(\n",
    "                'head not supported: {}'.format(head))\n",
    "\n",
    "    def forward(self, x):\n",
    "        feat = self.encoder(x)\n",
    "        feat = F.normalize(self.head(feat), dim=1)\n",
    "        return feat"
   ]
  },
  {
   "cell_type": "code",
   "execution_count": 101,
   "id": "2136d46b",
   "metadata": {},
   "outputs": [],
   "source": [
    "from torchvision.models import resnet\n",
    "\n",
    "resnet.model_urls[\"resnet50\"] = \"https://download.pytorch.org/models/resnet50-11ad3fa6.pth\"\n",
    "   \n",
    "  # Initialize the model using the legacy API\n",
    "model = resnet.resnet50(pretrained=True)\n",
    "model.fc = nn.Sequential(\n",
    "    nn.Dropout(0.5),\n",
    "    nn.Linear(model.fc.in_features, 7)\n",
    ")\n",
    "model = model.to(device)\n",
    "#print(model)"
   ]
  },
  {
   "cell_type": "code",
   "execution_count": 102,
   "id": "655d8e9f",
   "metadata": {},
   "outputs": [],
   "source": [
    "#loss\n",
    "criterion = nn.CrossEntropyLoss().to(device)"
   ]
  },
  {
   "cell_type": "code",
   "execution_count": 103,
   "id": "2689d74f",
   "metadata": {},
   "outputs": [],
   "source": [
    "# Optmizer\n",
    "learning_rate = 1e-3\n",
    "optimizer = optim.SGD(model.parameters(),\n",
    "                      lr=learning_rate,\n",
    "                      momentum=0.9,\n",
    "                      weight_decay=1e-4)"
   ]
  },
  {
   "cell_type": "code",
   "execution_count": 104,
   "id": "49cb89b5",
   "metadata": {},
   "outputs": [],
   "source": [
    "#train\n",
    "Max_epoch = 60\n",
    "def train(model, trainloader,loss_func,optimizer,epoch):\n",
    "    model = model.to(device)\n",
    "    model.train()\n",
    "    size = len(trainloader.dataset)\n",
    "    num_batches = len(trainset)\n",
    "    losses = []\n",
    "    scores = []\n",
    "    N_count = 0     \n",
    "    for batch_idx, (X, y) in tqdm(enumerate(trainloader)):\n",
    "        optimizer.zero_grad()\n",
    "        X = X.to(device)\n",
    "        y = y.to(device)\n",
    "        N_count += X.size(0)\n",
    "        output = model(X)\n",
    "        loss = loss_func(output, y)\n",
    "        losses.append(loss.item())\n",
    "        \n",
    "        pred = torch.argmax(output, dim=1)\n",
    "\n",
    "        step_score = accuracy_score(y.cpu().data.squeeze().numpy(), pred.cpu().data.squeeze().numpy())\n",
    "        scores.append(step_score)\n",
    "        loss.backward()\n",
    "        optimizer.step()\n",
    "    print('Train Epoch: {} [{}/{} ({:.0f}%)]\\tLoss: {:.6f}, Acc: {:.2f}%'.format(\n",
    "        epoch + 1,N_count, len(trainloader.dataset), 100. * (batch_idx + 1) / len(trainloader), loss.item(), 100 * step_score))    \n",
    "            \n",
    "    return losses, scores"
   ]
  },
  {
   "cell_type": "code",
   "execution_count": 105,
   "id": "d3761f40",
   "metadata": {},
   "outputs": [],
   "source": [
    "def test(model,testloader,loss_func):\n",
    "    # test mode\n",
    "    model.eval()\n",
    "    test_loss = 0\n",
    "    all_y = []\n",
    "    all_y_pred = []\n",
    "    with torch.no_grad():\n",
    "        for _, (data, target) in enumerate(testloader):\n",
    "            data = data.to(device)\n",
    "            target = target.to(device)\n",
    "            output = model(data)\n",
    "            loss = loss_func(output, target)\n",
    "            test_loss += loss.item()\n",
    "        \n",
    "            y_pred = torch.argmax(output, dim=1)\n",
    "        \n",
    "            all_y.extend(target)\n",
    "            all_y_pred.extend(y_pred)\n",
    "\n",
    "        test_loss /= len(testloader.dataset)\n",
    "        all_y = torch.stack(all_y, dim=0)\n",
    "        all_y_pred = torch.stack(all_y_pred, dim=0)\n",
    "        test_score = accuracy_score(all_y.cpu().data.squeeze().numpy(), all_y_pred.cpu().data.squeeze().numpy())\n",
    "\n",
    "        print('\\nTest set: loss: {:.4f}, Accuracy: {:.2f}%\\n'.format(test_loss, 100* test_score))\n",
    "\n",
    "        return test_loss, test_score\n",
    "\n",
    "\n"
   ]
  },
  {
   "cell_type": "code",
   "execution_count": 106,
   "id": "f5e356ba",
   "metadata": {},
   "outputs": [
    {
     "name": "stdout",
     "output_type": "stream",
     "text": [
      "Epoch 1\n",
      "-------------------------------\n"
     ]
    },
    {
     "name": "stderr",
     "output_type": "stream",
     "text": [
      "13it [01:22,  6.34s/it]\n"
     ]
    },
    {
     "name": "stdout",
     "output_type": "stream",
     "text": [
      "Train Epoch: 1 [305/305 (100%)]\tLoss: 1.523084, Acc: 58.82%\n",
      "\n",
      "Test set: loss: 0.0818, Accuracy: 67.68%\n",
      "\n",
      "Epoch 2\n",
      "-------------------------------\n"
     ]
    },
    {
     "name": "stderr",
     "output_type": "stream",
     "text": [
      "13it [01:21,  6.24s/it]\n"
     ]
    },
    {
     "name": "stdout",
     "output_type": "stream",
     "text": [
      "Train Epoch: 2 [305/305 (100%)]\tLoss: 0.921315, Acc: 76.47%\n",
      "\n",
      "Test set: loss: 0.0629, Accuracy: 67.68%\n",
      "\n",
      "Epoch 3\n",
      "-------------------------------\n"
     ]
    },
    {
     "name": "stderr",
     "output_type": "stream",
     "text": [
      "13it [01:20,  6.22s/it]\n"
     ]
    },
    {
     "name": "stdout",
     "output_type": "stream",
     "text": [
      "Train Epoch: 3 [305/305 (100%)]\tLoss: 1.362404, Acc: 52.94%\n",
      "\n",
      "Test set: loss: 0.0520, Accuracy: 67.68%\n",
      "\n",
      "Epoch 4\n",
      "-------------------------------\n"
     ]
    },
    {
     "name": "stderr",
     "output_type": "stream",
     "text": [
      "13it [01:22,  6.34s/it]\n"
     ]
    },
    {
     "name": "stdout",
     "output_type": "stream",
     "text": [
      "Train Epoch: 4 [305/305 (100%)]\tLoss: 0.974711, Acc: 70.59%\n",
      "\n",
      "Test set: loss: 0.0537, Accuracy: 67.68%\n",
      "\n",
      "Epoch 5\n",
      "-------------------------------\n"
     ]
    },
    {
     "name": "stderr",
     "output_type": "stream",
     "text": [
      "13it [01:21,  6.28s/it]\n"
     ]
    },
    {
     "name": "stdout",
     "output_type": "stream",
     "text": [
      "Train Epoch: 5 [305/305 (100%)]\tLoss: 0.584226, Acc: 88.24%\n",
      "\n",
      "Test set: loss: 0.0539, Accuracy: 67.68%\n",
      "\n",
      "Epoch 6\n",
      "-------------------------------\n"
     ]
    },
    {
     "name": "stderr",
     "output_type": "stream",
     "text": [
      "13it [01:21,  6.30s/it]\n"
     ]
    },
    {
     "name": "stdout",
     "output_type": "stream",
     "text": [
      "Train Epoch: 6 [305/305 (100%)]\tLoss: 0.585348, Acc: 76.47%\n",
      "\n",
      "Test set: loss: 0.0520, Accuracy: 67.68%\n",
      "\n",
      "Epoch 7\n",
      "-------------------------------\n"
     ]
    },
    {
     "name": "stderr",
     "output_type": "stream",
     "text": [
      "13it [01:22,  6.35s/it]\n"
     ]
    },
    {
     "name": "stdout",
     "output_type": "stream",
     "text": [
      "Train Epoch: 7 [305/305 (100%)]\tLoss: 0.703030, Acc: 70.59%\n",
      "\n",
      "Test set: loss: 0.0498, Accuracy: 67.68%\n",
      "\n",
      "Epoch 8\n",
      "-------------------------------\n"
     ]
    },
    {
     "name": "stderr",
     "output_type": "stream",
     "text": [
      "13it [01:20,  6.22s/it]\n"
     ]
    },
    {
     "name": "stdout",
     "output_type": "stream",
     "text": [
      "Train Epoch: 8 [305/305 (100%)]\tLoss: 0.842180, Acc: 70.59%\n",
      "\n",
      "Test set: loss: 0.0517, Accuracy: 67.68%\n",
      "\n",
      "Epoch 9\n",
      "-------------------------------\n"
     ]
    },
    {
     "name": "stderr",
     "output_type": "stream",
     "text": [
      "13it [01:22,  6.32s/it]\n"
     ]
    },
    {
     "name": "stdout",
     "output_type": "stream",
     "text": [
      "Train Epoch: 9 [305/305 (100%)]\tLoss: 0.780593, Acc: 70.59%\n",
      "\n",
      "Test set: loss: 0.0477, Accuracy: 67.68%\n",
      "\n",
      "Epoch 10\n",
      "-------------------------------\n"
     ]
    },
    {
     "name": "stderr",
     "output_type": "stream",
     "text": [
      "13it [01:15,  5.83s/it]\n"
     ]
    },
    {
     "name": "stdout",
     "output_type": "stream",
     "text": [
      "Train Epoch: 10 [305/305 (100%)]\tLoss: 0.902276, Acc: 64.71%\n",
      "\n",
      "Test set: loss: 0.0488, Accuracy: 69.70%\n",
      "\n",
      "Epoch 11\n",
      "-------------------------------\n"
     ]
    },
    {
     "name": "stderr",
     "output_type": "stream",
     "text": [
      "13it [00:51,  3.94s/it]\n"
     ]
    },
    {
     "name": "stdout",
     "output_type": "stream",
     "text": [
      "Train Epoch: 11 [305/305 (100%)]\tLoss: 0.530129, Acc: 82.35%\n",
      "\n",
      "Test set: loss: 0.0484, Accuracy: 68.69%\n",
      "\n",
      "Epoch 12\n",
      "-------------------------------\n"
     ]
    },
    {
     "name": "stderr",
     "output_type": "stream",
     "text": [
      "13it [00:51,  3.94s/it]\n"
     ]
    },
    {
     "name": "stdout",
     "output_type": "stream",
     "text": [
      "Train Epoch: 12 [305/305 (100%)]\tLoss: 0.672044, Acc: 76.47%\n",
      "\n",
      "Test set: loss: 0.0472, Accuracy: 71.72%\n",
      "\n",
      "Epoch 13\n",
      "-------------------------------\n"
     ]
    },
    {
     "name": "stderr",
     "output_type": "stream",
     "text": [
      "13it [00:51,  3.95s/it]\n"
     ]
    },
    {
     "name": "stdout",
     "output_type": "stream",
     "text": [
      "Train Epoch: 13 [305/305 (100%)]\tLoss: 0.599701, Acc: 82.35%\n",
      "\n",
      "Test set: loss: 0.0476, Accuracy: 68.69%\n",
      "\n",
      "Epoch 14\n",
      "-------------------------------\n"
     ]
    },
    {
     "name": "stderr",
     "output_type": "stream",
     "text": [
      "13it [00:50,  3.92s/it]\n"
     ]
    },
    {
     "name": "stdout",
     "output_type": "stream",
     "text": [
      "Train Epoch: 14 [305/305 (100%)]\tLoss: 1.215222, Acc: 58.82%\n",
      "\n",
      "Test set: loss: 0.0463, Accuracy: 67.68%\n",
      "\n",
      "Epoch 15\n",
      "-------------------------------\n"
     ]
    },
    {
     "name": "stderr",
     "output_type": "stream",
     "text": [
      "13it [00:50,  3.91s/it]\n"
     ]
    },
    {
     "name": "stdout",
     "output_type": "stream",
     "text": [
      "Train Epoch: 15 [305/305 (100%)]\tLoss: 0.742370, Acc: 70.59%\n",
      "\n",
      "Test set: loss: 0.0457, Accuracy: 69.70%\n",
      "\n",
      "Epoch 16\n",
      "-------------------------------\n"
     ]
    },
    {
     "name": "stderr",
     "output_type": "stream",
     "text": [
      "13it [00:51,  3.96s/it]\n"
     ]
    },
    {
     "name": "stdout",
     "output_type": "stream",
     "text": [
      "Train Epoch: 16 [305/305 (100%)]\tLoss: 0.516678, Acc: 88.24%\n",
      "\n",
      "Test set: loss: 0.0457, Accuracy: 71.72%\n",
      "\n",
      "Epoch 17\n",
      "-------------------------------\n"
     ]
    },
    {
     "name": "stderr",
     "output_type": "stream",
     "text": [
      "13it [00:50,  3.86s/it]\n"
     ]
    },
    {
     "name": "stdout",
     "output_type": "stream",
     "text": [
      "Train Epoch: 17 [305/305 (100%)]\tLoss: 0.475962, Acc: 88.24%\n",
      "\n",
      "Test set: loss: 0.0456, Accuracy: 71.72%\n",
      "\n",
      "Epoch 18\n",
      "-------------------------------\n"
     ]
    },
    {
     "name": "stderr",
     "output_type": "stream",
     "text": [
      "13it [00:51,  3.95s/it]\n"
     ]
    },
    {
     "name": "stdout",
     "output_type": "stream",
     "text": [
      "Train Epoch: 18 [305/305 (100%)]\tLoss: 0.493133, Acc: 88.24%\n",
      "\n",
      "Test set: loss: 0.0453, Accuracy: 69.70%\n",
      "\n",
      "Epoch 19\n",
      "-------------------------------\n"
     ]
    },
    {
     "name": "stderr",
     "output_type": "stream",
     "text": [
      "13it [00:51,  3.96s/it]\n"
     ]
    },
    {
     "name": "stdout",
     "output_type": "stream",
     "text": [
      "Train Epoch: 19 [305/305 (100%)]\tLoss: 0.522040, Acc: 82.35%\n",
      "\n",
      "Test set: loss: 0.0430, Accuracy: 70.71%\n",
      "\n",
      "Epoch 20\n",
      "-------------------------------\n"
     ]
    },
    {
     "name": "stderr",
     "output_type": "stream",
     "text": [
      "13it [00:51,  3.92s/it]\n"
     ]
    },
    {
     "name": "stdout",
     "output_type": "stream",
     "text": [
      "Train Epoch: 20 [305/305 (100%)]\tLoss: 0.397326, Acc: 94.12%\n",
      "\n",
      "Test set: loss: 0.0402, Accuracy: 69.70%\n",
      "\n",
      "Epoch 21\n",
      "-------------------------------\n"
     ]
    },
    {
     "name": "stderr",
     "output_type": "stream",
     "text": [
      "13it [00:51,  3.93s/it]\n"
     ]
    },
    {
     "name": "stdout",
     "output_type": "stream",
     "text": [
      "Train Epoch: 21 [305/305 (100%)]\tLoss: 0.546160, Acc: 82.35%\n",
      "\n",
      "Test set: loss: 0.0420, Accuracy: 71.72%\n",
      "\n",
      "Epoch 22\n",
      "-------------------------------\n"
     ]
    },
    {
     "name": "stderr",
     "output_type": "stream",
     "text": [
      "13it [00:50,  3.87s/it]\n"
     ]
    },
    {
     "name": "stdout",
     "output_type": "stream",
     "text": [
      "Train Epoch: 22 [305/305 (100%)]\tLoss: 0.853743, Acc: 64.71%\n",
      "\n",
      "Test set: loss: 0.0411, Accuracy: 73.74%\n",
      "\n",
      "Epoch 23\n",
      "-------------------------------\n"
     ]
    },
    {
     "name": "stderr",
     "output_type": "stream",
     "text": [
      "13it [00:51,  3.96s/it]\n"
     ]
    },
    {
     "name": "stdout",
     "output_type": "stream",
     "text": [
      "Train Epoch: 23 [305/305 (100%)]\tLoss: 0.449732, Acc: 88.24%\n",
      "\n",
      "Test set: loss: 0.0431, Accuracy: 76.77%\n",
      "\n",
      "Epoch 24\n",
      "-------------------------------\n"
     ]
    },
    {
     "name": "stderr",
     "output_type": "stream",
     "text": [
      "13it [00:50,  3.91s/it]\n"
     ]
    },
    {
     "name": "stdout",
     "output_type": "stream",
     "text": [
      "Train Epoch: 24 [305/305 (100%)]\tLoss: 0.274066, Acc: 100.00%\n",
      "\n",
      "Test set: loss: 0.0403, Accuracy: 73.74%\n",
      "\n",
      "Epoch 25\n",
      "-------------------------------\n"
     ]
    },
    {
     "name": "stderr",
     "output_type": "stream",
     "text": [
      "13it [00:51,  3.96s/it]\n"
     ]
    },
    {
     "name": "stdout",
     "output_type": "stream",
     "text": [
      "Train Epoch: 25 [305/305 (100%)]\tLoss: 1.154032, Acc: 70.59%\n",
      "\n",
      "Test set: loss: 0.0393, Accuracy: 73.74%\n",
      "\n",
      "Epoch 26\n",
      "-------------------------------\n"
     ]
    },
    {
     "name": "stderr",
     "output_type": "stream",
     "text": [
      "13it [00:51,  3.94s/it]\n"
     ]
    },
    {
     "name": "stdout",
     "output_type": "stream",
     "text": [
      "Train Epoch: 26 [305/305 (100%)]\tLoss: 0.739543, Acc: 76.47%\n",
      "\n",
      "Test set: loss: 0.0427, Accuracy: 73.74%\n",
      "\n",
      "Epoch 27\n",
      "-------------------------------\n"
     ]
    },
    {
     "name": "stderr",
     "output_type": "stream",
     "text": [
      "13it [00:51,  3.93s/it]\n"
     ]
    },
    {
     "name": "stdout",
     "output_type": "stream",
     "text": [
      "Train Epoch: 27 [305/305 (100%)]\tLoss: 0.695864, Acc: 76.47%\n",
      "\n",
      "Test set: loss: 0.0419, Accuracy: 70.71%\n",
      "\n",
      "Epoch 28\n",
      "-------------------------------\n"
     ]
    },
    {
     "name": "stderr",
     "output_type": "stream",
     "text": [
      "13it [00:52,  4.01s/it]\n"
     ]
    },
    {
     "name": "stdout",
     "output_type": "stream",
     "text": [
      "Train Epoch: 28 [305/305 (100%)]\tLoss: 0.647543, Acc: 64.71%\n",
      "\n",
      "Test set: loss: 0.0395, Accuracy: 72.73%\n",
      "\n",
      "Epoch 29\n",
      "-------------------------------\n"
     ]
    },
    {
     "name": "stderr",
     "output_type": "stream",
     "text": [
      "13it [00:52,  4.00s/it]\n"
     ]
    },
    {
     "name": "stdout",
     "output_type": "stream",
     "text": [
      "Train Epoch: 29 [305/305 (100%)]\tLoss: 0.708207, Acc: 76.47%\n",
      "\n",
      "Test set: loss: 0.0389, Accuracy: 73.74%\n",
      "\n",
      "Epoch 30\n",
      "-------------------------------\n"
     ]
    },
    {
     "name": "stderr",
     "output_type": "stream",
     "text": [
      "13it [00:53,  4.10s/it]\n"
     ]
    },
    {
     "name": "stdout",
     "output_type": "stream",
     "text": [
      "Train Epoch: 30 [305/305 (100%)]\tLoss: 0.374791, Acc: 94.12%\n",
      "\n",
      "Test set: loss: 0.0390, Accuracy: 74.75%\n",
      "\n",
      "Epoch 31\n",
      "-------------------------------\n"
     ]
    },
    {
     "name": "stderr",
     "output_type": "stream",
     "text": [
      "13it [00:53,  4.14s/it]\n"
     ]
    },
    {
     "name": "stdout",
     "output_type": "stream",
     "text": [
      "Train Epoch: 31 [305/305 (100%)]\tLoss: 0.241562, Acc: 94.12%\n",
      "\n",
      "Test set: loss: 0.0441, Accuracy: 69.70%\n",
      "\n",
      "Epoch 32\n",
      "-------------------------------\n"
     ]
    },
    {
     "name": "stderr",
     "output_type": "stream",
     "text": [
      "13it [00:51,  3.99s/it]\n"
     ]
    },
    {
     "name": "stdout",
     "output_type": "stream",
     "text": [
      "Train Epoch: 32 [305/305 (100%)]\tLoss: 0.338804, Acc: 100.00%\n",
      "\n",
      "Test set: loss: 0.0442, Accuracy: 70.71%\n",
      "\n",
      "Epoch 33\n",
      "-------------------------------\n"
     ]
    },
    {
     "name": "stderr",
     "output_type": "stream",
     "text": [
      "13it [00:54,  4.23s/it]\n"
     ]
    },
    {
     "name": "stdout",
     "output_type": "stream",
     "text": [
      "Train Epoch: 33 [305/305 (100%)]\tLoss: 0.546718, Acc: 76.47%\n",
      "\n",
      "Test set: loss: 0.0406, Accuracy: 71.72%\n",
      "\n",
      "Epoch 34\n",
      "-------------------------------\n"
     ]
    },
    {
     "name": "stderr",
     "output_type": "stream",
     "text": [
      "13it [00:53,  4.13s/it]\n"
     ]
    },
    {
     "name": "stdout",
     "output_type": "stream",
     "text": [
      "Train Epoch: 34 [305/305 (100%)]\tLoss: 0.205274, Acc: 100.00%\n",
      "\n",
      "Test set: loss: 0.0382, Accuracy: 73.74%\n",
      "\n",
      "Epoch 35\n",
      "-------------------------------\n"
     ]
    },
    {
     "name": "stderr",
     "output_type": "stream",
     "text": [
      "13it [00:53,  4.10s/it]\n"
     ]
    },
    {
     "name": "stdout",
     "output_type": "stream",
     "text": [
      "Train Epoch: 35 [305/305 (100%)]\tLoss: 0.251521, Acc: 88.24%\n",
      "\n",
      "Test set: loss: 0.0392, Accuracy: 73.74%\n",
      "\n",
      "Epoch 36\n",
      "-------------------------------\n"
     ]
    },
    {
     "name": "stderr",
     "output_type": "stream",
     "text": [
      "13it [00:52,  4.06s/it]\n"
     ]
    },
    {
     "name": "stdout",
     "output_type": "stream",
     "text": [
      "Train Epoch: 36 [305/305 (100%)]\tLoss: 0.448743, Acc: 82.35%\n",
      "\n",
      "Test set: loss: 0.0385, Accuracy: 75.76%\n",
      "\n",
      "Epoch 37\n",
      "-------------------------------\n"
     ]
    },
    {
     "name": "stderr",
     "output_type": "stream",
     "text": [
      "13it [00:51,  3.97s/it]\n"
     ]
    },
    {
     "name": "stdout",
     "output_type": "stream",
     "text": [
      "Train Epoch: 37 [305/305 (100%)]\tLoss: 0.440766, Acc: 88.24%\n",
      "\n",
      "Test set: loss: 0.0403, Accuracy: 74.75%\n",
      "\n",
      "Epoch 38\n",
      "-------------------------------\n"
     ]
    },
    {
     "name": "stderr",
     "output_type": "stream",
     "text": [
      "13it [00:52,  4.02s/it]\n"
     ]
    },
    {
     "name": "stdout",
     "output_type": "stream",
     "text": [
      "Train Epoch: 38 [305/305 (100%)]\tLoss: 0.696985, Acc: 70.59%\n",
      "\n",
      "Test set: loss: 0.0393, Accuracy: 72.73%\n",
      "\n",
      "Epoch 39\n",
      "-------------------------------\n"
     ]
    },
    {
     "name": "stderr",
     "output_type": "stream",
     "text": [
      "13it [00:51,  3.97s/it]\n"
     ]
    },
    {
     "name": "stdout",
     "output_type": "stream",
     "text": [
      "Train Epoch: 39 [305/305 (100%)]\tLoss: 0.609339, Acc: 76.47%\n",
      "\n",
      "Test set: loss: 0.0406, Accuracy: 73.74%\n",
      "\n",
      "Epoch 40\n",
      "-------------------------------\n"
     ]
    },
    {
     "name": "stderr",
     "output_type": "stream",
     "text": [
      "13it [00:51,  4.00s/it]\n"
     ]
    },
    {
     "name": "stdout",
     "output_type": "stream",
     "text": [
      "Train Epoch: 40 [305/305 (100%)]\tLoss: 0.403888, Acc: 88.24%\n",
      "\n",
      "Test set: loss: 0.0408, Accuracy: 75.76%\n",
      "\n",
      "Epoch 41\n",
      "-------------------------------\n"
     ]
    },
    {
     "name": "stderr",
     "output_type": "stream",
     "text": [
      "13it [00:51,  3.93s/it]\n"
     ]
    },
    {
     "name": "stdout",
     "output_type": "stream",
     "text": [
      "Train Epoch: 41 [305/305 (100%)]\tLoss: 0.534300, Acc: 88.24%\n",
      "\n",
      "Test set: loss: 0.0411, Accuracy: 73.74%\n",
      "\n",
      "Epoch 42\n",
      "-------------------------------\n"
     ]
    },
    {
     "name": "stderr",
     "output_type": "stream",
     "text": [
      "13it [00:51,  4.00s/it]\n"
     ]
    },
    {
     "name": "stdout",
     "output_type": "stream",
     "text": [
      "Train Epoch: 42 [305/305 (100%)]\tLoss: 0.761309, Acc: 76.47%\n",
      "\n",
      "Test set: loss: 0.0376, Accuracy: 73.74%\n",
      "\n",
      "Epoch 43\n",
      "-------------------------------\n"
     ]
    },
    {
     "name": "stderr",
     "output_type": "stream",
     "text": [
      "13it [00:53,  4.08s/it]\n"
     ]
    },
    {
     "name": "stdout",
     "output_type": "stream",
     "text": [
      "Train Epoch: 43 [305/305 (100%)]\tLoss: 0.491637, Acc: 82.35%\n",
      "\n",
      "Test set: loss: 0.0371, Accuracy: 71.72%\n",
      "\n",
      "Epoch 44\n",
      "-------------------------------\n"
     ]
    },
    {
     "name": "stderr",
     "output_type": "stream",
     "text": [
      "13it [00:51,  3.95s/it]\n"
     ]
    },
    {
     "name": "stdout",
     "output_type": "stream",
     "text": [
      "Train Epoch: 44 [305/305 (100%)]\tLoss: 0.669992, Acc: 76.47%\n",
      "\n",
      "Test set: loss: 0.0362, Accuracy: 73.74%\n",
      "\n",
      "Epoch 45\n",
      "-------------------------------\n"
     ]
    },
    {
     "name": "stderr",
     "output_type": "stream",
     "text": [
      "13it [00:51,  4.00s/it]\n"
     ]
    },
    {
     "name": "stdout",
     "output_type": "stream",
     "text": [
      "Train Epoch: 45 [305/305 (100%)]\tLoss: 0.411416, Acc: 88.24%\n",
      "\n",
      "Test set: loss: 0.0338, Accuracy: 73.74%\n",
      "\n",
      "Epoch 46\n",
      "-------------------------------\n"
     ]
    },
    {
     "name": "stderr",
     "output_type": "stream",
     "text": [
      "13it [00:53,  4.10s/it]\n"
     ]
    },
    {
     "name": "stdout",
     "output_type": "stream",
     "text": [
      "Train Epoch: 46 [305/305 (100%)]\tLoss: 0.503368, Acc: 82.35%\n",
      "\n",
      "Test set: loss: 0.0343, Accuracy: 71.72%\n",
      "\n",
      "Epoch 47\n",
      "-------------------------------\n"
     ]
    },
    {
     "name": "stderr",
     "output_type": "stream",
     "text": [
      "13it [00:53,  4.15s/it]\n"
     ]
    },
    {
     "name": "stdout",
     "output_type": "stream",
     "text": [
      "Train Epoch: 47 [305/305 (100%)]\tLoss: 0.717476, Acc: 70.59%\n",
      "\n",
      "Test set: loss: 0.0348, Accuracy: 73.74%\n",
      "\n",
      "Epoch 48\n",
      "-------------------------------\n"
     ]
    },
    {
     "name": "stderr",
     "output_type": "stream",
     "text": [
      "13it [00:52,  4.03s/it]\n"
     ]
    },
    {
     "name": "stdout",
     "output_type": "stream",
     "text": [
      "Train Epoch: 48 [305/305 (100%)]\tLoss: 0.617709, Acc: 70.59%\n",
      "\n",
      "Test set: loss: 0.0380, Accuracy: 70.71%\n",
      "\n",
      "Epoch 49\n",
      "-------------------------------\n"
     ]
    },
    {
     "name": "stderr",
     "output_type": "stream",
     "text": [
      "13it [00:52,  4.02s/it]\n"
     ]
    },
    {
     "name": "stdout",
     "output_type": "stream",
     "text": [
      "Train Epoch: 49 [305/305 (100%)]\tLoss: 0.315747, Acc: 82.35%\n",
      "\n",
      "Test set: loss: 0.0373, Accuracy: 69.70%\n",
      "\n",
      "Epoch 50\n",
      "-------------------------------\n"
     ]
    },
    {
     "name": "stderr",
     "output_type": "stream",
     "text": [
      "13it [00:51,  3.94s/it]\n"
     ]
    },
    {
     "name": "stdout",
     "output_type": "stream",
     "text": [
      "Train Epoch: 50 [305/305 (100%)]\tLoss: 0.453992, Acc: 82.35%\n",
      "\n",
      "Test set: loss: 0.0386, Accuracy: 69.70%\n",
      "\n",
      "Epoch 51\n",
      "-------------------------------\n"
     ]
    },
    {
     "name": "stderr",
     "output_type": "stream",
     "text": [
      "13it [00:51,  3.99s/it]\n"
     ]
    },
    {
     "name": "stdout",
     "output_type": "stream",
     "text": [
      "Train Epoch: 51 [305/305 (100%)]\tLoss: 0.548981, Acc: 76.47%\n",
      "\n",
      "Test set: loss: 0.0373, Accuracy: 74.75%\n",
      "\n",
      "Epoch 52\n",
      "-------------------------------\n"
     ]
    },
    {
     "name": "stderr",
     "output_type": "stream",
     "text": [
      "13it [00:51,  3.97s/it]\n"
     ]
    },
    {
     "name": "stdout",
     "output_type": "stream",
     "text": [
      "Train Epoch: 52 [305/305 (100%)]\tLoss: 0.585074, Acc: 70.59%\n",
      "\n",
      "Test set: loss: 0.0400, Accuracy: 71.72%\n",
      "\n",
      "Epoch 53\n",
      "-------------------------------\n"
     ]
    },
    {
     "name": "stderr",
     "output_type": "stream",
     "text": [
      "13it [00:51,  3.93s/it]\n"
     ]
    },
    {
     "name": "stdout",
     "output_type": "stream",
     "text": [
      "Train Epoch: 53 [305/305 (100%)]\tLoss: 0.200677, Acc: 94.12%\n",
      "\n",
      "Test set: loss: 0.0415, Accuracy: 67.68%\n",
      "\n",
      "Epoch 54\n",
      "-------------------------------\n"
     ]
    },
    {
     "name": "stderr",
     "output_type": "stream",
     "text": [
      "13it [00:51,  3.93s/it]\n"
     ]
    },
    {
     "name": "stdout",
     "output_type": "stream",
     "text": [
      "Train Epoch: 54 [305/305 (100%)]\tLoss: 0.566783, Acc: 76.47%\n",
      "\n",
      "Test set: loss: 0.0345, Accuracy: 76.77%\n",
      "\n",
      "Epoch 55\n",
      "-------------------------------\n"
     ]
    },
    {
     "name": "stderr",
     "output_type": "stream",
     "text": [
      "13it [00:52,  4.00s/it]\n"
     ]
    },
    {
     "name": "stdout",
     "output_type": "stream",
     "text": [
      "Train Epoch: 55 [305/305 (100%)]\tLoss: 0.254057, Acc: 94.12%\n",
      "\n",
      "Test set: loss: 0.0341, Accuracy: 76.77%\n",
      "\n",
      "Epoch 56\n",
      "-------------------------------\n"
     ]
    },
    {
     "name": "stderr",
     "output_type": "stream",
     "text": [
      "13it [00:51,  3.94s/it]\n"
     ]
    },
    {
     "name": "stdout",
     "output_type": "stream",
     "text": [
      "Train Epoch: 56 [305/305 (100%)]\tLoss: 0.354557, Acc: 88.24%\n",
      "\n",
      "Test set: loss: 0.0375, Accuracy: 75.76%\n",
      "\n",
      "Epoch 57\n",
      "-------------------------------\n"
     ]
    },
    {
     "name": "stderr",
     "output_type": "stream",
     "text": [
      "13it [00:52,  4.02s/it]\n"
     ]
    },
    {
     "name": "stdout",
     "output_type": "stream",
     "text": [
      "Train Epoch: 57 [305/305 (100%)]\tLoss: 0.341323, Acc: 88.24%\n",
      "\n",
      "Test set: loss: 0.0360, Accuracy: 72.73%\n",
      "\n",
      "Epoch 58\n",
      "-------------------------------\n"
     ]
    },
    {
     "name": "stderr",
     "output_type": "stream",
     "text": [
      "13it [00:51,  3.97s/it]\n"
     ]
    },
    {
     "name": "stdout",
     "output_type": "stream",
     "text": [
      "Train Epoch: 58 [305/305 (100%)]\tLoss: 0.329607, Acc: 76.47%\n",
      "\n",
      "Test set: loss: 0.0367, Accuracy: 72.73%\n",
      "\n",
      "Epoch 59\n",
      "-------------------------------\n"
     ]
    },
    {
     "name": "stderr",
     "output_type": "stream",
     "text": [
      "13it [00:51,  3.96s/it]\n"
     ]
    },
    {
     "name": "stdout",
     "output_type": "stream",
     "text": [
      "Train Epoch: 59 [305/305 (100%)]\tLoss: 0.258372, Acc: 94.12%\n",
      "\n",
      "Test set: loss: 0.0364, Accuracy: 74.75%\n",
      "\n",
      "Epoch 60\n",
      "-------------------------------\n"
     ]
    },
    {
     "name": "stderr",
     "output_type": "stream",
     "text": [
      "13it [00:51,  3.99s/it]\n"
     ]
    },
    {
     "name": "stdout",
     "output_type": "stream",
     "text": [
      "Train Epoch: 60 [305/305 (100%)]\tLoss: 0.340506, Acc: 82.35%\n",
      "\n",
      "Test set: loss: 0.0359, Accuracy: 70.71%\n",
      "\n",
      "Done!\n"
     ]
    }
   ],
   "source": [
    "train_Acc_list = []\n",
    "train_loss_list = []\n",
    "test_Acc_list = []\n",
    "test_loss_list = []\n",
    "\n",
    "for epoch in range(Max_epoch):\n",
    "    print(f\"Epoch {epoch+1}\\n-------------------------------\")\n",
    "    train_losses, train_scores = train(model, trainloader,criterion,optimizer,epoch)\n",
    "    epoch_test_loss, epoch_test_score = test(model,testloader,criterion)\n",
    "    \n",
    "    train_Acc_list.append(train_scores)\n",
    "    train_loss_list.append(train_losses)\n",
    "    test_Acc_list.append(epoch_test_score)\n",
    "    test_loss_list.append(epoch_test_loss)\n",
    "\n",
    "print(\"Done!\")"
   ]
  },
  {
   "cell_type": "code",
   "execution_count": 115,
   "id": "822cd3de",
   "metadata": {},
   "outputs": [
    {
     "data": {
      "text/plain": [
       "array([[1.98249257, 1.92996156, 1.86887264, 1.81973851, 1.83208787,\n",
       "        1.80575025, 1.70251977, 1.57664812, 1.68392694, 1.60180175,\n",
       "        1.66874659, 1.47266865, 1.52308381],\n",
       "       [1.31193352, 1.31846714, 1.26806653, 1.15282369, 1.17525375,\n",
       "        1.38791943, 0.96344155, 1.19096875, 1.13045371, 0.87076163,\n",
       "        1.10041165, 1.04503357, 0.92131531],\n",
       "       [1.02319288, 0.75830382, 1.28496647, 1.03353918, 0.52705222,\n",
       "        1.2821641 , 0.98329812, 1.15517294, 1.22570765, 0.85368329,\n",
       "        1.0936079 , 0.79241276, 1.36240411],\n",
       "       [0.72132236, 0.77585262, 1.06584847, 0.763659  , 1.28006816,\n",
       "        1.07916021, 0.64214945, 1.23047912, 0.58358908, 1.11409724,\n",
       "        0.90140271, 1.16286695, 0.97471082],\n",
       "       [1.37968361, 0.73633462, 1.35614049, 0.75912708, 0.90793467,\n",
       "        1.08367836, 0.9317835 , 0.51445091, 0.84548062, 0.78034741,\n",
       "        0.97361022, 0.91835457, 0.58422565],\n",
       "       [0.82830113, 0.78973371, 0.92487097, 0.71263647, 0.69102305,\n",
       "        0.97546965, 1.04812086, 0.77247983, 0.96439952, 0.85205477,\n",
       "        0.66874909, 1.33849704, 0.58534789],\n",
       "       [1.07855999, 1.28167641, 0.86135906, 0.77833861, 1.01592112,\n",
       "        0.78346425, 0.86312956, 0.76190978, 0.61325151, 1.08507764,\n",
       "        0.59751481, 0.66548043, 0.70303035],\n",
       "       [0.70331883, 0.81156015, 1.11652195, 0.82449573, 0.84666204,\n",
       "        1.10497534, 0.72801638, 0.8370592 , 0.58084691, 1.53414118,\n",
       "        0.617598  , 0.74863458, 0.84217954],\n",
       "       [1.20651591, 0.89829516, 0.98452139, 0.60458124, 0.85932392,\n",
       "        1.0204047 , 1.04612458, 0.64051241, 0.7414456 , 0.89930218,\n",
       "        0.57833624, 0.57875216, 0.7805925 ],\n",
       "       [1.09417665, 0.87089616, 0.89724749, 0.53327471, 0.94116408,\n",
       "        0.64453369, 1.2570976 , 0.90274388, 0.54521161, 0.90614957,\n",
       "        0.57816082, 0.57432407, 0.90227634],\n",
       "       [0.5572899 , 0.8318696 , 0.97847456, 1.22040737, 0.55232769,\n",
       "        0.95850271, 0.59531349, 0.50870115, 1.25823879, 0.71308607,\n",
       "        0.55025935, 0.86331004, 0.53012949],\n",
       "       [1.16977215, 0.84698814, 0.7035417 , 0.73315877, 0.69166404,\n",
       "        0.66475749, 0.63676137, 0.6034807 , 0.65914005, 0.86985773,\n",
       "        0.75581926, 0.70708424, 0.67204428],\n",
       "       [0.59987992, 0.66468877, 1.55827153, 0.93844479, 0.72253585,\n",
       "        0.90497905, 0.67738014, 0.53643066, 0.6813001 , 0.8390221 ,\n",
       "        0.9032144 , 0.53421384, 0.59970134],\n",
       "       [1.0442363 , 0.79886097, 0.56998843, 0.57409507, 0.67406148,\n",
       "        1.19218946, 0.75263691, 0.62548578, 0.70023018, 0.64477754,\n",
       "        0.79623193, 0.45223939, 1.21522176],\n",
       "       [0.79626703, 0.57852906, 0.83087915, 0.83365816, 0.8469823 ,\n",
       "        0.76579833, 0.66644281, 0.6908558 , 0.54618305, 0.7286284 ,\n",
       "        0.69898468, 0.60240698, 0.74236995],\n",
       "       [0.77097726, 0.74850589, 0.44333348, 0.85225302, 0.86608118,\n",
       "        0.65606999, 0.55296403, 0.76448601, 0.7945165 , 0.78081948,\n",
       "        0.58730716, 0.58181983, 0.51667798],\n",
       "       [0.38416222, 0.79189044, 0.656196  , 0.536017  , 0.69937402,\n",
       "        0.60865337, 0.97789282, 0.51266891, 1.16970325, 0.5675571 ,\n",
       "        0.58453506, 0.7492916 , 0.47596163],\n",
       "       [0.55109411, 0.73797733, 0.3957462 , 1.00453091, 0.48254681,\n",
       "        0.78241676, 1.01994038, 0.72527462, 0.81497502, 0.57731777,\n",
       "        0.59995365, 0.6617831 , 0.49313322],\n",
       "       [0.50657666, 0.62167454, 0.52490872, 0.82129288, 0.56070697,\n",
       "        0.63999718, 0.56254286, 1.0523299 , 0.4459084 , 0.64843875,\n",
       "        0.5274244 , 0.78328091, 0.52204019],\n",
       "       [0.47187403, 0.52416825, 0.48314521, 0.59896094, 0.68247885,\n",
       "        0.47606632, 0.50322533, 0.87581968, 1.00730121, 0.76150149,\n",
       "        0.8533659 , 0.87376124, 0.39732566],\n",
       "       [0.70312333, 0.55376846, 0.51637512, 0.71413583, 0.71190447,\n",
       "        0.44075787, 0.55855519, 0.85608   , 0.75138825, 0.58631593,\n",
       "        0.60601008, 0.73016709, 0.54615951],\n",
       "       [0.50930017, 0.54543501, 0.55365902, 0.52096146, 0.67372447,\n",
       "        0.96066648, 0.78287458, 0.59157145, 0.53084069, 0.46464828,\n",
       "        0.54602283, 0.60354424, 0.85374337],\n",
       "       [0.66519505, 0.91338563, 0.60551423, 0.60848278, 0.61617547,\n",
       "        0.41343081, 0.59195435, 0.45219135, 0.67816263, 0.47985375,\n",
       "        0.7547397 , 0.50927287, 0.44973159],\n",
       "       [0.53924173, 0.47397825, 0.6624583 , 0.53781945, 0.54148823,\n",
       "        0.77067119, 0.44534537, 0.53408509, 0.5410831 , 0.65557092,\n",
       "        0.60307503, 0.62911731, 0.27406642],\n",
       "       [0.59193486, 0.38220987, 0.67104048, 0.4016389 , 0.563182  ,\n",
       "        0.73092508, 0.54426587, 0.49343571, 0.50592124, 0.3399913 ,\n",
       "        0.61638373, 0.45488858, 1.15403235],\n",
       "       [0.5384267 , 0.65238714, 0.75798041, 0.59248221, 0.62589949,\n",
       "        0.41074809, 0.56802231, 0.50412756, 0.42897502, 1.02278936,\n",
       "        0.5677017 , 0.5716145 , 0.73954326],\n",
       "       [0.73544401, 0.78698164, 0.6510433 , 0.35130897, 0.60327518,\n",
       "        0.71230179, 0.4200432 , 0.52091199, 0.55702239, 0.59242791,\n",
       "        0.57296365, 0.35872865, 0.69586432],\n",
       "       [0.37034741, 0.28545034, 0.56604177, 0.79351825, 0.63765448,\n",
       "        0.64754897, 0.5465396 , 0.84558362, 0.46800008, 0.52273291,\n",
       "        0.67323488, 0.63729179, 0.64754295],\n",
       "       [0.39561424, 0.4279367 , 0.78037161, 0.57784742, 0.41257739,\n",
       "        0.44427621, 0.92654711, 0.75688058, 0.53222471, 0.48293182,\n",
       "        0.72356075, 0.37512729, 0.70820665],\n",
       "       [0.7970832 , 0.60874188, 0.64345026, 0.44316152, 0.65830797,\n",
       "        0.43235651, 0.29576519, 0.3095839 , 0.54115522, 0.51035208,\n",
       "        0.70502383, 0.66819429, 0.37479135],\n",
       "       [0.45981038, 0.54045027, 0.5547846 , 0.65138382, 0.30160689,\n",
       "        0.44255748, 0.64482814, 0.44975898, 0.98527962, 0.70038128,\n",
       "        0.70829648, 0.50752062, 0.24156155],\n",
       "       [0.6796515 , 0.47608837, 0.51508564, 0.56326908, 0.59495646,\n",
       "        0.43653747, 0.58356619, 0.32553485, 0.35985795, 0.61523312,\n",
       "        0.40875062, 0.79530805, 0.33880398],\n",
       "       [0.52208096, 0.47251582, 0.73237354, 0.65800673, 0.71430796,\n",
       "        0.32389596, 0.58133751, 0.27300894, 0.7275095 , 0.4846302 ,\n",
       "        0.27437592, 0.41235805, 0.54671806],\n",
       "       [0.48604575, 0.62201333, 0.35952115, 0.52625889, 0.59424984,\n",
       "        0.53452796, 0.30904463, 0.48704049, 0.55579311, 0.6061517 ,\n",
       "        0.33570969, 0.59369129, 0.20527366],\n",
       "       [0.45826903, 0.4895573 , 0.58319348, 0.64307022, 0.52629358,\n",
       "        0.46513844, 0.5964911 , 0.43445286, 0.25188443, 0.38786969,\n",
       "        0.4281114 , 0.66524512, 0.25152072],\n",
       "       [0.37971067, 0.42086515, 0.85789514, 0.37210205, 0.48701397,\n",
       "        0.35832313, 0.49006656, 0.39032114, 0.49414483, 0.40886608,\n",
       "        0.5380156 , 0.62816197, 0.44874263],\n",
       "       [0.40574148, 0.57217509, 0.47084108, 0.38362202, 0.34705293,\n",
       "        0.51244515, 0.76895458, 0.42201114, 0.43615416, 0.46982169,\n",
       "        0.37815821, 0.63600713, 0.44076601],\n",
       "       [0.7973997 , 0.4306238 , 0.18972279, 0.42855349, 0.24505328,\n",
       "        0.28305751, 0.27444777, 0.43623471, 0.61217117, 0.36567929,\n",
       "        0.83878326, 0.57618397, 0.69698483],\n",
       "       [0.55975801, 0.73333007, 0.16693462, 0.42801252, 0.48859033,\n",
       "        0.28648335, 0.26318482, 0.91906548, 0.39084303, 0.28419945,\n",
       "        0.6117149 , 0.3115935 , 0.60933948],\n",
       "       [0.32548919, 0.60414982, 0.39323911, 0.31996644, 0.90257114,\n",
       "        0.6315397 , 0.3041411 , 0.35989714, 0.64393401, 0.67287821,\n",
       "        0.43265697, 0.39483371, 0.40388772],\n",
       "       [0.42286134, 0.41795245, 0.2049225 , 0.84548646, 0.4258033 ,\n",
       "        0.5263595 , 0.48167124, 0.59336925, 0.38217461, 0.39173958,\n",
       "        0.22426759, 0.44032705, 0.53430015],\n",
       "       [0.21922934, 0.48370132, 0.58507806, 0.41395548, 0.74334359,\n",
       "        0.40467688, 0.20444322, 0.42395616, 0.44339073, 0.21824729,\n",
       "        0.431137  , 0.47406408, 0.76130921],\n",
       "       [0.44028294, 0.47529206, 0.38742018, 0.15574831, 0.61095196,\n",
       "        0.391415  , 0.38682616, 0.40809068, 0.2936188 , 0.64370155,\n",
       "        0.46719983, 0.28359312, 0.49163747],\n",
       "       [0.54463118, 0.23773949, 0.3485409 , 0.42671123, 0.6326589 ,\n",
       "        0.27234906, 0.28717563, 0.5605092 , 0.35902455, 0.38639104,\n",
       "        0.41260102, 0.79246348, 0.66999161],\n",
       "       [0.76194715, 0.62123936, 0.24120359, 0.5001508 , 0.42670488,\n",
       "        0.22579519, 0.28507504, 1.0639708 , 0.33141133, 0.6255548 ,\n",
       "        0.31075636, 0.30947021, 0.41141629],\n",
       "       [0.38536796, 0.47612098, 0.25039199, 0.61856991, 0.37479547,\n",
       "        0.19356187, 0.59531158, 0.82130736, 0.25068429, 0.52009606,\n",
       "        0.41702262, 0.29671681, 0.50336784],\n",
       "       [0.3542366 , 0.49356392, 0.50609273, 0.63731217, 0.21364985,\n",
       "        0.41422808, 0.49229458, 0.35034755, 0.18632449, 0.75471473,\n",
       "        0.44686189, 0.28266898, 0.71747601],\n",
       "       [0.63766259, 0.39458933, 0.22322862, 0.3714228 , 0.39157677,\n",
       "        0.3940641 , 0.35880575, 0.42622375, 0.43545851, 0.57828957,\n",
       "        0.32118914, 0.35163927, 0.6177088 ],\n",
       "       [0.24008371, 0.25935414, 0.5221135 , 0.44757017, 0.49096724,\n",
       "        0.42774019, 0.31011972, 0.47170106, 0.73662132, 0.25838405,\n",
       "        0.44912434, 0.26284999, 0.31574696],\n",
       "       [0.28610203, 0.20536594, 0.55705661, 0.45705035, 0.67294592,\n",
       "        0.24342404, 0.21866436, 0.60424334, 0.43278763, 0.36515102,\n",
       "        0.1557775 , 0.38916698, 0.45399183],\n",
       "       [0.28647539, 0.33096111, 0.43163744, 0.62696308, 0.34238634,\n",
       "        0.4003121 , 0.18208981, 0.15258302, 0.20885988, 0.56404525,\n",
       "        0.2544128 , 0.46925369, 0.54898125],\n",
       "       [0.1924756 , 0.25842977, 0.42833391, 0.26731876, 0.5247066 ,\n",
       "        0.34418818, 0.28574607, 0.35304573, 0.41953894, 0.4581058 ,\n",
       "        0.35147843, 0.52365017, 0.58507365],\n",
       "       [0.29477093, 0.40640673, 0.30877081, 0.25076434, 0.34229574,\n",
       "        0.4659183 , 0.43108347, 0.36114326, 0.28656662, 0.23717566,\n",
       "        0.40644816, 0.35411498, 0.20067701],\n",
       "       [0.26656413, 0.23202837, 0.55139261, 0.4509286 , 0.29307535,\n",
       "        0.25281107, 0.31255892, 0.20535563, 0.26779625, 0.40994099,\n",
       "        0.40557453, 0.26558414, 0.56678349],\n",
       "       [0.31604668, 0.22869653, 0.2901592 , 0.2537131 , 0.24332857,\n",
       "        0.66798073, 0.27381155, 0.30776316, 0.39312088, 0.21834202,\n",
       "        0.79924679, 0.43967369, 0.25405684],\n",
       "       [0.42898843, 0.32017884, 1.07917666, 0.22164644, 0.2049576 ,\n",
       "        0.31073171, 0.5092119 , 0.37173215, 0.47788408, 0.31299108,\n",
       "        0.1745991 , 0.25089008, 0.3545568 ],\n",
       "       [0.44402072, 0.18256585, 0.46567598, 0.69762373, 0.39323735,\n",
       "        0.27319971, 0.31251481, 0.582618  , 0.28000838, 0.54011774,\n",
       "        0.42912349, 0.43522552, 0.34132338],\n",
       "       [0.27094361, 0.42112362, 0.32322043, 0.40791389, 0.29383758,\n",
       "        0.42229578, 0.23371594, 0.31603137, 0.264851  , 0.43921778,\n",
       "        0.50662005, 0.42509177, 0.32960698],\n",
       "       [0.36280915, 0.32807395, 0.38287452, 0.36610341, 0.28655717,\n",
       "        0.35508752, 0.33180192, 0.41656566, 0.4142265 , 0.27473861,\n",
       "        0.34106091, 0.24482231, 0.25837234],\n",
       "       [0.15976787, 0.75537539, 0.53234643, 0.22414064, 0.21069926,\n",
       "        0.23448105, 0.37310994, 0.17147891, 0.30149868, 0.18462221,\n",
       "        0.33291772, 0.27885479, 0.34050593]])"
      ]
     },
     "execution_count": 115,
     "metadata": {},
     "output_type": "execute_result"
    }
   ],
   "source": [
    "A = np.array(train_loss_list)\n",
    "B = np.array(train_Acc_list)\n",
    "C = np.array(test_loss_list )\n",
    "D = np.array(test_Acc_list)"
   ]
  },
  {
   "cell_type": "code",
   "execution_count": 119,
   "id": "32c12cd1",
   "metadata": {},
   "outputs": [
    {
     "data": {
      "text/plain": [
       "array([1.52308381, 0.92131531, 1.36240411, 0.97471082, 0.58422565,\n",
       "       0.58534789, 0.70303035, 0.84217954, 0.7805925 , 0.90227634,\n",
       "       0.53012949, 0.67204428, 0.59970134, 1.21522176, 0.74236995,\n",
       "       0.51667798, 0.47596163, 0.49313322, 0.52204019, 0.39732566,\n",
       "       0.54615951, 0.85374337, 0.44973159, 0.27406642, 1.15403235,\n",
       "       0.73954326, 0.69586432, 0.64754295, 0.70820665, 0.37479135,\n",
       "       0.24156155, 0.33880398, 0.54671806, 0.20527366, 0.25152072,\n",
       "       0.44874263, 0.44076601, 0.69698483, 0.60933948, 0.40388772,\n",
       "       0.53430015, 0.76130921, 0.49163747, 0.66999161, 0.41141629,\n",
       "       0.50336784, 0.71747601, 0.6177088 , 0.31574696, 0.45399183,\n",
       "       0.54898125, 0.58507365, 0.20067701, 0.56678349, 0.25405684,\n",
       "       0.3545568 , 0.34132338, 0.32960698, 0.25837234, 0.34050593])"
      ]
     },
     "execution_count": 119,
     "metadata": {},
     "output_type": "execute_result"
    }
   ],
   "source": [
    "A1=[]\n",
    "for i in range(0,60):\n",
    "    A1.append(A[i][-1])\n",
    "    \n",
    "A1 = np.array(A1)\n",
    "A1"
   ]
  },
  {
   "cell_type": "code",
   "execution_count": 120,
   "id": "261b20e1",
   "metadata": {},
   "outputs": [
    {
     "data": {
      "text/plain": [
       "array([0.58823529, 0.76470588, 0.52941176, 0.70588235, 0.88235294,\n",
       "       0.76470588, 0.70588235, 0.70588235, 0.70588235, 0.64705882,\n",
       "       0.82352941, 0.76470588, 0.82352941, 0.58823529, 0.70588235,\n",
       "       0.88235294, 0.88235294, 0.88235294, 0.82352941, 0.94117647,\n",
       "       0.82352941, 0.64705882, 0.88235294, 1.        , 0.70588235,\n",
       "       0.76470588, 0.76470588, 0.64705882, 0.76470588, 0.94117647,\n",
       "       0.94117647, 1.        , 0.76470588, 1.        , 0.88235294,\n",
       "       0.82352941, 0.88235294, 0.70588235, 0.76470588, 0.88235294,\n",
       "       0.88235294, 0.76470588, 0.82352941, 0.76470588, 0.88235294,\n",
       "       0.82352941, 0.70588235, 0.70588235, 0.82352941, 0.82352941,\n",
       "       0.76470588, 0.70588235, 0.94117647, 0.76470588, 0.94117647,\n",
       "       0.88235294, 0.88235294, 0.76470588, 0.94117647, 0.82352941])"
      ]
     },
     "execution_count": 120,
     "metadata": {},
     "output_type": "execute_result"
    }
   ],
   "source": [
    "B1=[]\n",
    "for i in range(0,60):\n",
    "    B1.append(B[i][-1])\n",
    "    \n",
    "B1 = np.array(B1)\n",
    "B1"
   ]
  },
  {
   "cell_type": "code",
   "execution_count": 121,
   "id": "6633330e",
   "metadata": {},
   "outputs": [
    {
     "data": {
      "image/png": "[encoded data removed]",
      "text/plain": [
       "<Figure size 720x288 with 2 Axes>"
      ]
     },
     "metadata": {
      "needs_background": "light"
     },
     "output_type": "display_data"
    }
   ],
   "source": [
    "import matplotlib.pyplot as plt\n",
    "fig = plt.figure(figsize=(10, 4))\n",
    "plt.subplot(121)\n",
    "plt.plot(np.arange(1, Max_epoch+1), A1)  # train loss (on epoch end)\n",
    "plt.plot(np.arange(1, Max_epoch+1), C)         #  test loss (on epoch end)\n",
    "plt.title(\"model loss\")\n",
    "plt.xlabel('epochs')\n",
    "plt.ylabel('loss')\n",
    "plt.legend(['train', 'test'], loc=\"upper right\")\n",
    "# 2nd figure\n",
    "plt.subplot(122)\n",
    "plt.plot(np.arange(1, Max_epoch + 1), B1)  # train accuracy (on epoch end)\n",
    "plt.plot(np.arange(1, Max_epoch + 1), D)         #  test accuracy (on epoch end)\n",
    "plt.title(\"training scores\")\n",
    "plt.xlabel('epochs')\n",
    "plt.ylabel('accuracy')\n",
    "plt.legend(['train', 'test'], loc=\"upper right\")\n",
    "plt.show()"
   ]
  },
  {
   "cell_type": "code",
   "execution_count": null,
   "id": "5a13b6d4",
   "metadata": {},
   "outputs": [],
   "source": []
  }
 ],
 "metadata": {
  "kernelspec": {
   "display_name": "Python 3 (ipykernel)",
   "language": "python",
   "name": "python3"
  },
  "language_info": {
   "codemirror_mode": {
    "name": "ipython",
    "version": 3
   },
   "file_extension": ".py",
   "mimetype": "text/x-python",
   "name": "python",
   "nbconvert_exporter": "python",
   "pygments_lexer": "ipython3",
   "version": "3.8.12"
  }
 },
 "nbformat": 4,
 "nbformat_minor": 5
}
